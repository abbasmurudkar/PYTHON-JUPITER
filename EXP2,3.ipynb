{
 "cells": [
  {
   "cell_type": "code",
   "execution_count": 4,
   "id": "8486f953",
   "metadata": {},
   "outputs": [
    {
     "name": "stdout",
     "output_type": "stream",
     "text": [
      "ENTER THE SIDE A:- 5\n",
      "ENTER THE SIDE B:- 2\n",
      "ENTER THE SIDE C:- 5\n",
      "THE ISOCLES TRAINGLE\n"
     ]
    }
   ],
   "source": [
    "a = eval(input(\"ENTER THE SIDE A:- \"))\n",
    "b = eval(input(\"ENTER THE SIDE B:- \"))\n",
    "c = eval(input(\"ENTER THE SIDE C:- \"))\n",
    "if a==b==c:\n",
    "    print(\"THE TRAINGLE IS EQUILATERAL\")\n",
    "elif a==b or b==c or c==a:\n",
    "    print(\"THE ISOCLES TRAINGLE\")\n",
    "else:\n",
    "    print(\"THE SCALENE TRAINGLE\")"
   ]
  },
  {
   "cell_type": "code",
   "execution_count": 11,
   "id": "ab2abc6a",
   "metadata": {},
   "outputs": [
    {
     "name": "stdout",
     "output_type": "stream",
     "text": [
      "ENTER THE FIRST NUMBER:- 5\n",
      "ENTER THE EXPRESSION:- SQRT\n",
      "ENTER THE SECOND NUMBER4\n",
      "SQUARE ROOT OF NUMNBERS:-  25 16\n"
     ]
    }
   ],
   "source": [
    "inp1 = eval(input(\"ENTER THE FIRST NUMBER:- \"))\n",
    "exp = str(input(\"ENTER THE EXPRESSION:- \"))\n",
    "inp2 = eval(input(\"ENTER THE SECOND NUMBER\"))\n",
    "if(exp == '+'):\n",
    "    add = inp1+inp2\n",
    "    print(\"ADDITION IS :- \",add)\n",
    "elif (exp == '-'):\n",
    "    sub = inp1-inp2\n",
    "    print(\"SUBTRACTION IS :- \",sub)\n",
    "elif (exp == '*'):\n",
    "    mul = inp1*inp2\n",
    "    print(\"MULTIPLICATION IS :- \",mul)\n",
    "elif (exp == '/'):\n",
    "    div = inp1/inp2\n",
    "    print(\"DIVISION IS :- \", div)\n",
    "elif (exp == 'sqrt'or exp == 'SQRT'):\n",
    "    sqrt = inp1*inp1\n",
    "    sqrt1 = inp2*inp2\n",
    "    print(\"SQUARE ROOT OF NUMNBERS:- \",sqrt,sqrt1)\n",
    "else:\n",
    "    print(\"INVALID IDENTIFIER\")"
   ]
  },
  {
   "cell_type": "code",
   "execution_count": 7,
   "id": "1d23ec83",
   "metadata": {},
   "outputs": [
    {
     "name": "stdout",
     "output_type": "stream",
     "text": [
      "EVEN NUMBERS:-  47\n",
      "ODD NUMBERS:-  48\n"
     ]
    }
   ],
   "source": [
    "E=0\n",
    "O=0\n",
    "for i in range(5,100):\n",
    "    if(i%2)==0:\n",
    "        E = 1+E\n",
    "    else:\n",
    "        O = 1+O\n",
    "print(\"EVEN NUMBERS:- \",E)\n",
    "print(\"ODD NUMBERS:- \",O)\n",
    "        "
   ]
  },
  {
   "cell_type": "code",
   "execution_count": 2,
   "id": "12f62318",
   "metadata": {},
   "outputs": [
    {
     "name": "stdout",
     "output_type": "stream",
     "text": [
      "ENTER THE STRING TO BE REVERSE:- hello\n",
      "olleh \n"
     ]
    }
   ],
   "source": [
    "x = str(input(\"ENTER THE STRING TO BE REVERSE:- \"))\n",
    "reverse = \" \"\n",
    "for i in x:\n",
    "    reverse = i + reverse\n",
    "print(reverse)"
   ]
  },
  {
   "cell_type": "code",
   "execution_count": 14,
   "id": "902d41f0",
   "metadata": {},
   "outputs": [
    {
     "name": "stdout",
     "output_type": "stream",
     "text": [
      "ENTER THE RANGE:- 5\n",
      "ENTER THE SECOND RANGE:- 20\n",
      "5\n",
      "7\n",
      "11\n",
      "13\n",
      "17\n",
      "19\n"
     ]
    }
   ],
   "source": [
    "#prime number\n",
    "x = eval(input(\"ENTER THE RANGE:- \"))\n",
    "y = eval(input(\"ENTER THE SECOND RANGE:- \"))\n",
    "\n",
    "for num in range(x,y+1):\n",
    "    if num>1:\n",
    "        for i in range(2,num):\n",
    "            if(num%i)==0:\n",
    "                break; \n",
    "        else:\n",
    "            print(num)"
   ]
  },
  {
   "cell_type": "code",
   "execution_count": 18,
   "id": "4c7e0163",
   "metadata": {},
   "outputs": [
    {
     "name": "stdout",
     "output_type": "stream",
     "text": [
      "ENTER THE RANGE:- 7\n",
      "1\n",
      "2\n",
      "3\n",
      "5\n",
      "8\n",
      "13\n",
      "21\n"
     ]
    }
   ],
   "source": [
    "#fibanocci\n",
    "x = eval(input(\"ENTER THE RANGE:- \"))\n",
    "a = 0;\n",
    "b = 1;\n",
    "i =1\n",
    "while i<=x:\n",
    "    c = a + b\n",
    "    a = b\n",
    "    b = c\n",
    "    print(c)\n",
    "    i = i + 1"
   ]
  },
  {
   "cell_type": "code",
   "execution_count": 1,
   "id": "32ad7283",
   "metadata": {},
   "outputs": [
    {
     "name": "stdout",
     "output_type": "stream",
     "text": [
      "ENTER THE PASSWORDstr\n",
      "INCORECT PASSWORD\n",
      "ENTER THE PASSWORDsdf\n",
      "INCORECT PASSWORD\n",
      "ENTER THE PASSWORDHELLO\n",
      "Correct password\n"
     ]
    }
   ],
   "source": [
    "passwd = \"HELLO\"\n",
    "i = 0\n",
    "while i<5:\n",
    "    x = str(input(\"ENTER THE PASSWORD\"))\n",
    "    if(x == passwd):\n",
    "        print(\"Correct password\")\n",
    "        break\n",
    "#         i = i+1\n",
    "    else:\n",
    "        print(\"INCORECT PASSWORD\")"
   ]
  },
  {
   "cell_type": "code",
   "execution_count": 2,
   "id": "a09ce268",
   "metadata": {},
   "outputs": [
    {
     "name": "stdout",
     "output_type": "stream",
     "text": [
      "2\n",
      "3\n",
      "4\n",
      "5\n"
     ]
    }
   ],
   "source": [
    "for i in range(2,6):\n",
    "    print(i)"
   ]
  },
  {
   "cell_type": "code",
   "execution_count": null,
   "id": "d0b09538",
   "metadata": {},
   "outputs": [],
   "source": []
  }
 ],
 "metadata": {
  "kernelspec": {
   "display_name": "Python 3 (ipykernel)",
   "language": "python",
   "name": "python3"
  },
  "language_info": {
   "codemirror_mode": {
    "name": "ipython",
    "version": 3
   },
   "file_extension": ".py",
   "mimetype": "text/x-python",
   "name": "python",
   "nbconvert_exporter": "python",
   "pygments_lexer": "ipython3",
   "version": "3.9.13"
  }
 },
 "nbformat": 4,
 "nbformat_minor": 5
}
