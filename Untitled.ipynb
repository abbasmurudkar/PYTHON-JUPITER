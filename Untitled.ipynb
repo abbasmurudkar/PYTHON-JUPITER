{
 "cells": [
  {
   "cell_type": "markdown",
   "id": "0749b0e3",
   "metadata": {},
   "source": [
    "Create  Account  class  for  a  bank  with  variables  number  and  balance.  Create  constructor  and two  user  defined  function  deposit  and  withdraw  with  appropriate  arguments. Create  class customer inherited from Account and with variables name, address, dob.  Defineconstructor.   Display details of customer along with balance amount after deposit and withdraw operation."
   ]
  },
  {
   "cell_type": "code",
   "execution_count": 12,
   "id": "818593e6",
   "metadata": {},
   "outputs": [
    {
     "name": "stdout",
     "output_type": "stream",
     "text": [
      "ENTER THE IFSC CODE:- 5\n",
      "enter the addresskk\n",
      "ENTER THE DOB50\n",
      "ADDRESS:-  kk\n",
      "DOB 50\n",
      "THE IFSC CODE:-  5\n",
      "BALANCE AVAILABLE:-  9000\n",
      "ENTER THE AMOUNT TO BE WITHDRAW:- 4000\n",
      "The Amount witdrawed:- 4000\n",
      "The Remaining Balance:- 5000\n"
     ]
    }
   ],
   "source": [
    "class Account:\n",
    "    def __init__(self,number,balance):\n",
    "        number = int(input(\"ENTER THE IFSC CODE:- \"))\n",
    "        self.number = number\n",
    "        self.balance = balance\n",
    "    def Deopost_amount(self):\n",
    "        print(\"THE IFSC CODE:- \",self.number)\n",
    "        print(\"BALANCE AVAILABLE:- \",self.balance)\n",
    "    def withraw_amount(self):\n",
    "        amt= int(input(\"ENTER THE AMOUNT TO BE WITHDRAW:- \"))\n",
    "        if(self.balance>=amt):\n",
    "            print(\"The Amount witdrawed:-\", amt)\n",
    "            print(\"The Remaining Balance:-\", self.balance-amt)\n",
    "        else:\n",
    "            print(\"EXCEED THE CURRENT AMOUNT BALANCE\")\n",
    "class Customer(Account):\n",
    "    def __init__(self,address,DOB,number,balance):\n",
    "        super().__init__(number,balance)\n",
    "        address = input(\"enter the address\")\n",
    "        dob= input(\"ENTER THE DOB\")\n",
    "        self.address = address\n",
    "        self.DOB = dob\n",
    "    def display(self):\n",
    "        print(\"ADDRESS:- \",self.address)\n",
    "        print(\"DOB\",self.DOB)\n",
    "        \n",
    "x = Customer('kk','30-july',45,9000)\n",
    "x.display()\n",
    "x.Deopost_amount()\n",
    "x.withraw_amount()        \n",
    "        "
   ]
  },
  {
   "cell_type": "code",
   "execution_count": 16,
   "id": "ba0b985d",
   "metadata": {},
   "outputs": [
    {
     "name": "stdout",
     "output_type": "stream",
     "text": [
      "35\n"
     ]
    }
   ],
   "source": [
    "x = lambda a,b : a * b \n",
    "print(x(5,7))"
   ]
  },
  {
   "cell_type": "code",
   "execution_count": 19,
   "id": "d00d8296",
   "metadata": {},
   "outputs": [
    {
     "name": "stdout",
     "output_type": "stream",
     "text": [
      "22\n"
     ]
    }
   ],
   "source": [
    "def myfunc(n): \n",
    "    return lambda a : a * n \n",
    "mydoublr = myfunc(2) \n",
    "print(mydoublr(11))"
   ]
  },
  {
   "cell_type": "code",
   "execution_count": 28,
   "id": "999618b2",
   "metadata": {},
   "outputs": [
    {
     "name": "stdout",
     "output_type": "stream",
     "text": [
      "[False, True, False, True, False, True, False, True]\n"
     ]
    }
   ],
   "source": [
    "numbers = [1,2,3,4,5,6,7,8]\n",
    "num = list(map(lambda x: x%2 == 0,numbers))\n",
    "print(num)"
   ]
  },
  {
   "cell_type": "code",
   "execution_count": 25,
   "id": "086f6767",
   "metadata": {},
   "outputs": [
    {
     "name": "stdout",
     "output_type": "stream",
     "text": [
      "36\n",
      "6\n"
     ]
    }
   ],
   "source": [
    "x = lambda a:a+26\n",
    "print(x(10))\n",
    "y = lambda x,y: x*y\n",
    "print(y(2,3))"
   ]
  },
  {
   "cell_type": "code",
   "execution_count": 26,
   "id": "51bde940",
   "metadata": {},
   "outputs": [
    {
     "name": "stdout",
     "output_type": "stream",
     "text": [
      "[0, 0]\n",
      "[1, 1]\n",
      "[4, 8]\n",
      "[9, 27]\n",
      "[16, 64]\n"
     ]
    }
   ],
   "source": [
    "def square(a):\n",
    "    return a*a\n",
    "def cube(a):\n",
    "    return a*a*a\n",
    "func = [square,cube]\n",
    "\n",
    "for i in range(5):\n",
    "    val = list(map(lambda x:x(i),func))\n",
    "    print(val)"
   ]
  },
  {
   "cell_type": "code",
   "execution_count": null,
   "id": "3e36c9ef",
   "metadata": {},
   "outputs": [],
   "source": []
  }
 ],
 "metadata": {
  "kernelspec": {
   "display_name": "Python 3 (ipykernel)",
   "language": "python",
   "name": "python3"
  },
  "language_info": {
   "codemirror_mode": {
    "name": "ipython",
    "version": 3
   },
   "file_extension": ".py",
   "mimetype": "text/x-python",
   "name": "python",
   "nbconvert_exporter": "python",
   "pygments_lexer": "ipython3",
   "version": "3.9.13"
  }
 },
 "nbformat": 4,
 "nbformat_minor": 5
}
