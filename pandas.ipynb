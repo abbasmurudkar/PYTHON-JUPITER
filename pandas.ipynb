{
 "cells": [
  {
   "cell_type": "markdown",
   "id": "cb8c06b6",
   "metadata": {},
   "source": [
    "NUMPY"
   ]
  },
  {
   "cell_type": "code",
   "execution_count": 10,
   "id": "ba0a0db9",
   "metadata": {},
   "outputs": [
    {
     "name": "stdout",
     "output_type": "stream",
     "text": [
      "    NAME ROLLNO\n",
      "x  ABBAS   A079\n",
      "y   ERAM   A080\n",
      "z  ARMAN   A081\n",
      "a    100\n",
      "b    200\n",
      "c    300\n",
      "d    400\n",
      "e    800\n",
      "dtype: int64\n",
      "    NAME ROLLNO\n",
      "x  ABBAS   A079\n",
      "y   ERAM   A080\n",
      "z  ARMAN   A081\n",
      "e   UMAR   A089\n"
     ]
    }
   ],
   "source": [
    "import pandas as pd\n",
    "dict = {'NAME':['ABBAS','ERAM','ARMAN'],'ROLLNO':['A079','A080','A081']}\n",
    "a = pd.DataFrame(dict,index=('x','y','z'))\n",
    "print(a)\n",
    "a.to_csv('normal.csv',index=False)\n",
    "dict = {'a':100,'b':200,'c':300,'d':400,'e':800}\n",
    "x = pd.Series(dict)\n",
    "print(x)\n",
    "a.loc['e']=['UMAR','A089']\n",
    "print(a)\n",
    "\n"
   ]
  },
  {
   "cell_type": "code",
   "execution_count": null,
   "id": "3458e536",
   "metadata": {},
   "outputs": [],
   "source": [
    "data = { \"calories\": [420, 380, 390], \"duration\": [50, 40, 45] }\n",
    "myvar = pd.DataFrame(data)\n",
    "print(myvar)\n",
    "print(myvar.iloc[2])\n",
    "myvar1= pd.DataFrame(data, index = [\"day1\", \"day2\", \"day3\"])\n",
    "print(myvar1)\n",
    "print(myvar.iloc[0])"
   ]
  },
  {
   "cell_type": "code",
   "execution_count": null,
   "id": "64048892",
   "metadata": {},
   "outputs": [],
   "source": [
    "\n",
    "dict = {\"NAME\":[\"ABBAS\",\"ARMAN\",\"ERAM\",\"UMAR\",\"HAIDER\",\"SHAGUL\"],\"AGE\":[10,20,30,40,50,60],\n",
    "        \"CARS\":[\"FERRARI\",\"MERCEDES\",\"BMW\",\"NANO\",\"BIKE\",\"AUTO\"] }\n",
    "a = pd.DataFrame(dict,index=(\"1\",\"2\",\"3\",\"4\",\"5\",\"6\"))\n",
    "print(a)\n",
    "a.to_csv('Cousins.csv',index=False)\n",
    "x = a.head(2)\n",
    "print(x)\n",
    "y = a.tail(2)\n",
    "print(y)\n",
    "print(a.describe())\n"
   ]
  },
  {
   "cell_type": "code",
   "execution_count": null,
   "id": "86f7dbbd",
   "metadata": {},
   "outputs": [],
   "source": [
    "abbas = pd.read_csv('abbas.csv')\n",
    "print(abbas)"
   ]
  },
  {
   "cell_type": "code",
   "execution_count": null,
   "id": "410b94ed",
   "metadata": {},
   "outputs": [],
   "source": [
    "abbas.loc[0,'NAME'] = \"ABBAS\"\n",
    "abbas.index=[1,2,3,4,5,6]\n",
    "print(abbas)"
   ]
  },
  {
   "cell_type": "code",
   "execution_count": null,
   "id": "f1f30d76",
   "metadata": {},
   "outputs": [],
   "source": [
    "abbas.to_numpy()"
   ]
  },
  {
   "cell_type": "code",
   "execution_count": null,
   "id": "cd343e48",
   "metadata": {},
   "outputs": [],
   "source": [
    "abbas.drop(['NAME','HELLO'],axis=1)"
   ]
  },
  {
   "cell_type": "code",
   "execution_count": null,
   "id": "16db8e67",
   "metadata": {},
   "outputs": [],
   "source": [
    "import numpy as np\n",
    "exam_data = {'name':['ANASTASIA','DIMA','KATHERINE','JAMES','EMILY','MICHEAL','MATHEW','LAURA','KEVIN','JONAS'],\n",
    "             'score':[12.5,9,16.5,np.nan,9,20,14.5,np.nan,8,19],\n",
    "             'attempts':[1,3,2,3,2,3,1,1,2,1],\n",
    "             'quality':['yea','no','yes','no','no','yes','yes','no','no','yes']}\n",
    "x = pd.DataFrame(exam_data,index=(1,2,3,4,5,6,7,8,9,10))\n",
    "print(x)\n",
    "x.to_csv('example.csv',index=False)\n",
    "# a = x.head(2)\n",
    "# a = x.tail(2)\n",
    "# print(a)\n",
    "z = x['name'] \n",
    "# print(z)\n",
    "# for i in range(10):\n",
    "#     if(i%2)==0:\n",
    "#         continue\n",
    "#     else:   \n",
    "#         z = x.loc[i,'name']\n",
    "#         print(z)\n",
    "\n",
    "z = x['score'].isnull()\n",
    "print(z)\n",
    "z = x['score'].median()\n",
    "\n",
    "print(z)\n",
    "c = x.fillna(value=\"1\",axis=0)\n",
    "print(c)\n",
    "x.loc[1:2,['attempts']]\n"
   ]
  },
  {
   "cell_type": "code",
   "execution_count": null,
   "id": "44968ee7",
   "metadata": {},
   "outputs": [],
   "source": [
    "x.plot(kind=\"scatter\",x='score',y='quality')\n",
    "x.plot(kind='hist',x='score',title=\"bar graph\")\n",
    "x.plot(kind='bar',x='score')\n",
    "x.plot(kind='line',x='score')\n"
   ]
  },
  {
   "cell_type": "code",
   "execution_count": null,
   "id": "f4f29ef9",
   "metadata": {},
   "outputs": [],
   "source": []
  }
 ],
 "metadata": {
  "kernelspec": {
   "display_name": "Python 3 (ipykernel)",
   "language": "python",
   "name": "python3"
  },
  "language_info": {
   "codemirror_mode": {
    "name": "ipython",
    "version": 3
   },
   "file_extension": ".py",
   "mimetype": "text/x-python",
   "name": "python",
   "nbconvert_exporter": "python",
   "pygments_lexer": "ipython3",
   "version": "3.9.13"
  }
 },
 "nbformat": 4,
 "nbformat_minor": 5
}
