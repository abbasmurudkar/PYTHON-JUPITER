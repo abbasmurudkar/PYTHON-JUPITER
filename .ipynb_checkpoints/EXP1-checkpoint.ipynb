{
 "cells": [
  {
   "cell_type": "code",
   "execution_count": 3,
   "id": "5626c1ad",
   "metadata": {},
   "outputs": [
    {
     "name": "stdout",
     "output_type": "stream",
     "text": [
      "Enter the NumberABBAS07\n",
      "NO OF DIGITS:- 2\n",
      "NO OF WORDS:- 5\n"
     ]
    }
   ],
   "source": [
    "inp = input(\"Enter the Number\")\n",
    "l=s=0;\n",
    "for c in inp:\n",
    "    if c.isdigit():\n",
    "        l=1+l;\n",
    "    elif c.isalpha():\n",
    "        s=1+s;\n",
    "print(\"NO OF DIGITS:-\",l)\n",
    "print(\"NO OF WORDS:-\",s)"
   ]
  },
  {
   "cell_type": "code",
   "execution_count": 8,
   "id": "907738c4",
   "metadata": {},
   "outputs": [
    {
     "name": "stdout",
     "output_type": "stream",
     "text": [
      "BEFORE SWAPPING X= 1  Y= 0\n",
      "AFTER SWAPPING,X= 0 Y= 1\n",
      "BITWISE OPERATOR 1\n"
     ]
    }
   ],
   "source": [
    "X = 1;\n",
    "Y = 0;\n",
    "print(\"BEFORE SWAPPING X=\",X,\" Y=\",Y)\n",
    "TEMP=X;\n",
    "X = Y;\n",
    "Y = TEMP;\n",
    "print(\"AFTER SWAPPING,X=\",X,\"Y=\",Y)\n",
    "print(\"BITWISE OPERATOR\",X^Y)\n",
    "\n"
   ]
  },
  {
   "cell_type": "code",
   "execution_count": 15,
   "id": "8434cc05",
   "metadata": {},
   "outputs": [
    {
     "name": "stdout",
     "output_type": "stream",
     "text": [
      "ENTER THE RADIUS OF THE CIRCLE:-5\n",
      "THE AREA OF THE CIRCLE 15.70 :- \n",
      "ENTER THE SIDE OF THE SQUARE:- 5\n",
      "THE AREA OF THE SQUARE 20.00 :- \n",
      "ENTER THE LENGTH OF RECT:- 5\n",
      "ENTER THE BREADTH OF RECT:- 5\n",
      "THE AREA OF THE RECTANGLE 25.00:-\n"
     ]
    }
   ],
   "source": [
    "r = eval(input(\"ENTER THE RADIUS OF THE CIRCLE:-\"))\n",
    "area = 3.14*r;\n",
    "print(\"THE AREA OF THE CIRCLE %.2f :- \"%area)\n",
    "\n",
    "side = eval(input(\"ENTER THE SIDE OF THE SQUARE:- \"))\n",
    "square = 4*side\n",
    "print(\"THE AREA OF THE SQUARE %.2f :- \"%square)\n",
    "\n",
    "L = eval(input(\"ENTER THE LENGTH OF RECT:- \"))\n",
    "B = eval(input(\"ENTER THE BREADTH OF RECT:- \"))\n",
    "rect = L*B\n",
    "print(\"THE AREA OF THE RECTANGLE %.2F:-\"%rect)\n",
    "\n"
   ]
  },
  {
   "cell_type": "code",
   "execution_count": 18,
   "id": "d8e7ce14",
   "metadata": {},
   "outputs": [
    {
     "name": "stdout",
     "output_type": "stream",
     "text": [
      "ENTER THE VALUE A:- 1\n",
      "ENTER THE VALUE B:- 5\n",
      "ENTER THE VALUE C:- 1\n",
      "THE SOLUTION FOR THE EQUATION IS :-  -0.20871215252208009\n"
     ]
    }
   ],
   "source": [
    "a = eval(input(\"ENTER THE VALUE A:- \"))\n",
    "b = eval(input(\"ENTER THE VALUE B:- \"))\n",
    "c = eval(input(\"ENTER THE VALUE C:- \"))\n",
    "\n",
    "x1 = (-b + ((b**2-4*a*c)**0.5))/2*a\n",
    "print(\"THE SOLUTION FOR THE EQUATION IS :- \",x1)"
   ]
  },
  {
   "cell_type": "code",
   "execution_count": 23,
   "id": "d59702be",
   "metadata": {},
   "outputs": [
    {
     "name": "stdout",
     "output_type": "stream",
     "text": [
      "ENTER THE VALUE IN CELCIUS:- 0.5\n",
      "CONVERSION OF CELCIUS TO FERANITE:- 32.90 \n",
      "CONVERSION OF FERANITE TO CELCIUS:- 0.50 \n"
     ]
    }
   ],
   "source": [
    "deg = eval(input(\"ENTER THE VALUE IN CELCIUS:- \"))\n",
    "Feranite = (deg *1.8)+32\n",
    "Celcius = ((Feranite-32)*5)/9\n",
    "print(\"CONVERSION OF CELCIUS TO FERANITE:- %.2f \"%Feranite)\n",
    "print(\"CONVERSION OF FERANITE TO CELCIUS:- %.2f \"%Celcius)"
   ]
  },
  {
   "cell_type": "code",
   "execution_count": 37,
   "id": "d1a66646",
   "metadata": {},
   "outputs": [
    {
     "name": "stdout",
     "output_type": "stream",
     "text": [
      "UPPERCASE:-  HELLO WHATSAPP BUDDY MY NAME IS ABBAS\n",
      "LOWERCASE:-  hello whatsapp buddy my name is abbas\n",
      "TITLECASE:-  Hello Whatsapp Buddy My Name Is Abbas\n",
      "SWAPCASE:-  hELLO WHATSAPP BUDDY mY nAME IS ABBAS\n",
      "FINDING WORD INDEX:-  15\n",
      "CAPITALIZECASE:-  Hello whatsapp buddy my name is abbas\n",
      "COUNTING THE LETTER:-  3\n"
     ]
    }
   ],
   "source": [
    "x = \"Hello whatsapp buddy My Name is abbas\"\n",
    "print(\"UPPERCASE:- \",x.upper())\n",
    "print(\"LOWERCASE:- \",x.lower())\n",
    "print(\"TITLECASE:- \",x.title())\n",
    "print(\"SWAPCASE:- \",x.swapcase())\n",
    "print(\"FINDING WORD INDEX:- \",x.find('b'))\n",
    "print(\"CAPITALIZECASE:- \",x.capitalize())\n",
    "print(\"COUNTING THE LETTER:- \",x.count('b'))"
   ]
  },
  {
   "cell_type": "code",
   "execution_count": null,
   "id": "e457ec44",
   "metadata": {},
   "outputs": [],
   "source": []
  }
 ],
 "metadata": {
  "kernelspec": {
   "display_name": "Python 3 (ipykernel)",
   "language": "python",
   "name": "python3"
  },
  "language_info": {
   "codemirror_mode": {
    "name": "ipython",
    "version": 3
   },
   "file_extension": ".py",
   "mimetype": "text/x-python",
   "name": "python",
   "nbconvert_exporter": "python",
   "pygments_lexer": "ipython3",
   "version": "3.9.13"
  }
 },
 "nbformat": 4,
 "nbformat_minor": 5
}
