{
 "cells": [
  {
   "cell_type": "code",
   "execution_count": 9,
   "id": "9d197856",
   "metadata": {},
   "outputs": [
    {
     "name": "stdout",
     "output_type": "stream",
     "text": [
      "ADDING THE ELEMENT IN THE SETS:-  {(2, 3, 1), (2, 2, 4), (2, 2, 3), (2, 2, 2)}\n",
      "REMOVING THE ELEMENT IN THE SETS:- {(2, 2, 4), (2, 2, 3), (2, 2, 2)}\n"
     ]
    }
   ],
   "source": [
    "sets = {(2,3,1),(2,2,2),(2,2,4)}\n",
    "X = sets.add((2,2,3))\n",
    "print(\"ADDING THE ELEMENT IN THE SETS:- \",sets)\n",
    "Y = sets.remove((2,3,1))\n",
    "print(\"REMOVING THE ELEMENT IN THE SETS:-\" ,sets)"
   ]
  },
  {
   "cell_type": "code",
   "execution_count": 37,
   "id": "fe246b08",
   "metadata": {},
   "outputs": [
    {
     "name": "stdout",
     "output_type": "stream",
     "text": [
      "{(2, 2, 3), (3, 4, 5), (2, 3, 4), (2, 2, 2)}\n",
      "{(2, 2, 3), (3, 4, 5), (2, 3, 4), (4, 4, 2), (2, 2, 2), (2, 3, 6)}\n",
      "DELETED ELEMENT FROM THE SETS:-  (2, 2, 3)\n",
      "SETS STATE:-  {(3, 4, 5), (2, 3, 4), (4, 4, 2), (2, 2, 2), (2, 3, 6)}\n",
      "USING THE REMOVE METHODS:-  {(3, 4, 5), (2, 3, 4), (4, 4, 2), (2, 3, 6)}\n",
      "DISCARDED ELEMENT:-  {(3, 4, 5), (4, 4, 2), (2, 3, 6)}\n",
      "UNION OF THE SETS:-  {(3, 4, 5), (4, 4, 2), (2, 3, 6), (2, 2, 2), (1, 2, 3)}\n",
      "INTERSECTION OF THE SETS:-  {(3, 4, 5)}\n",
      "DIFFERENCE OF THE SETS:-  {(1, 2, 3), (2, 2, 2)}\n",
      "{(4, 4, 2), (2, 3, 6)}\n",
      "{(4, 4, 2), (2, 2, 2), (2, 3, 6), (1, 2, 3), (3, 4, 5)}\n"
     ]
    }
   ],
   "source": [
    "sets ={(2,2,2),(3,4,5),(2,2,3)}\n",
    "sets2 = {(1,2,3),(2,2,2),(3,4,5)}\n",
    "# SETS METHOD\n",
    "\n",
    "x = sets.add((2,3,4))\n",
    "print(sets)\n",
    "y = sets.update({(2,3,6),(4,4,2)})\n",
    "print(sets)\n",
    "x = sets.pop()\n",
    "print(\"DELETED ELEMENT FROM THE SETS:- \",x)\n",
    "print(\"SETS STATE:- \",sets)\n",
    "y = sets.remove((2,2,2))\n",
    "print(\"USING THE REMOVE METHODS:- \",sets)\n",
    "x = sets.discard((2,3,4))\n",
    "print(\"DISCARDED ELEMENT:- \",sets)\n",
    "y = sets.union(sets2)\n",
    "print(\"UNION OF THE SETS:- \",y)\n",
    "x = sets.intersection(sets2)\n",
    "print(\"INTERSECTION OF THE SETS:- \",x)\n",
    "y = sets2.difference(sets)\n",
    "print(\"DIFFERENCE OF THE SETS:- \",y)\n",
    "x = sets.difference_update(sets2)\n",
    "print(sets)\n",
    "y = sets2.symmetric_difference(sets)\n",
    "print(y)\n"
   ]
  },
  {
   "cell_type": "code",
   "execution_count": 38,
   "id": "92e5dd63",
   "metadata": {},
   "outputs": [
    {
     "name": "stdout",
     "output_type": "stream",
     "text": [
      "MAXIMUM NUMBERS:- (4, 4, 3)\n",
      "MINIMUM NUMBERS:-  (2, 1, 4)\n",
      "LENGTH OF NUMBERS:-  3\n"
     ]
    }
   ],
   "source": [
    "sets = {(2,2,3),(4,4,3),(2,1,4)}\n",
    "print(\"MAXIMUM NUMBERS:-\" ,max(sets))\n",
    "print(\"MINIMUM NUMBERS:- \",min(sets))\n",
    "print(\"LENGTH OF NUMBERS:- \",len(sets))"
   ]
  },
  {
   "cell_type": "code",
   "execution_count": 49,
   "id": "50611fa9",
   "metadata": {},
   "outputs": [
    {
     "name": "stdout",
     "output_type": "stream",
     "text": [
      "[2, 2, 3, 4]\n"
     ]
    }
   ],
   "source": [
    "tup = [2,3,4]\n",
    "tup[0:0] = [2]\n",
    "print(tup)"
   ]
  },
  {
   "cell_type": "code",
   "execution_count": null,
   "id": "cd487080",
   "metadata": {},
   "outputs": [],
   "source": []
  }
 ],
 "metadata": {
  "kernelspec": {
   "display_name": "Python 3 (ipykernel)",
   "language": "python",
   "name": "python3"
  },
  "language_info": {
   "codemirror_mode": {
    "name": "ipython",
    "version": 3
   },
   "file_extension": ".py",
   "mimetype": "text/x-python",
   "name": "python",
   "nbconvert_exporter": "python",
   "pygments_lexer": "ipython3",
   "version": "3.9.13"
  }
 },
 "nbformat": 4,
 "nbformat_minor": 5
}
