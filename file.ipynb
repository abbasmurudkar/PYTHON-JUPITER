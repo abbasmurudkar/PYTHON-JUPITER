{
 "cells": [
  {
   "cell_type": "code",
   "execution_count": 63,
   "id": "d4662696",
   "metadata": {},
   "outputs": [
    {
     "name": "stdout",
     "output_type": "stream",
     "text": [
      "\n"
     ]
    }
   ],
   "source": [
    "with open('text.txt','w+')as f:\n",
    "    f.writelines(\"HELLO WORLD\")\n",
    "    print(f.read())\n",
    "    f.close()"
   ]
  },
  {
   "cell_type": "code",
   "execution_count": 68,
   "id": "0e08b85b",
   "metadata": {},
   "outputs": [],
   "source": [
    "with open('text.txt','a+')as f:\n",
    "    f.writelines('\\nHEY WHATSAPP ')\n",
    "    f.writelines('\\nCHAL BSDK')\n",
    "    f.close()"
   ]
  },
  {
   "cell_type": "code",
   "execution_count": 69,
   "id": "8ad9e78d",
   "metadata": {},
   "outputs": [
    {
     "name": "stdout",
     "output_type": "stream",
     "text": [
      "HELLO WORLD\n",
      "HEY WHATSAPP \n",
      "HEY WHATSAPP \n",
      "CHAL BSDK\n"
     ]
    }
   ],
   "source": [
    "with open('text.txt','rt')as f:\n",
    "    print(f.read())\n",
    "    f.close()"
   ]
  },
  {
   "cell_type": "code",
   "execution_count": 67,
   "id": "50fa2775",
   "metadata": {},
   "outputs": [
    {
     "name": "stdout",
     "output_type": "stream",
     "text": [
      "HELLO WORLD\n",
      "\n",
      "HEY WHATSAPP \n"
     ]
    }
   ],
   "source": [
    "with open('text.txt') as f:\n",
    "    for line in f:\n",
    "        print(line)"
   ]
  },
  {
   "cell_type": "code",
   "execution_count": 71,
   "id": "3d33c669",
   "metadata": {},
   "outputs": [
    {
     "name": "stdout",
     "output_type": "stream",
     "text": [
      "HELLO WORLD\n",
      "HEY WHATSAPP \n",
      "HEY WHATSAPP \n"
     ]
    }
   ],
   "source": [
    "with open('text.txt','rt')as f:\n",
    "    print(f.readline(),end=\"\")\n",
    "    print(f.readline(),end= \"\")\n",
    "    print(f.readline(),end = \"\")"
   ]
  },
  {
   "cell_type": "code",
   "execution_count": 73,
   "id": "00dbfcbd",
   "metadata": {},
   "outputs": [
    {
     "name": "stdout",
     "output_type": "stream",
     "text": [
      "HELLO WORLD\n",
      "HEY WHATSAPP \n",
      "HEY WHATSAPP \n",
      "CHAL BSDK\n",
      "THANK YOU BHAI\n",
      "\n"
     ]
    }
   ],
   "source": [
    "with open('text.txt','r+')as f:\n",
    "    print(f.read())\n",
    "    f.write(\"\\nTHANK YOU BHAI\")\n",
    "    print(f.read())\n",
    "    f.close()"
   ]
  },
  {
   "cell_type": "code",
   "execution_count": 82,
   "id": "03e1b57c",
   "metadata": {},
   "outputs": [
    {
     "name": "stdout",
     "output_type": "stream",
     "text": [
      "0\n",
      "HEY WHATSAPP \n",
      "\n",
      "26\n",
      "CHAL BSDK\n",
      "\n",
      "50\n",
      "HEY WHATSAPP \n",
      "\n"
     ]
    }
   ],
   "source": [
    "with open('text.txt')as f:\n",
    "    print(f.tell())\n",
    "    f.seek(12)\n",
    "    print(f.readline())\n",
    "    print(f.tell())\n",
    "    f.seek(40)\n",
    "    print(f.readline())\n",
    "    print(f.tell())\n",
    "    f.seek(12)\n",
    "    print(f.readline())\n",
    "    f.close()"
   ]
  },
  {
   "cell_type": "code",
   "execution_count": 84,
   "id": "093410d0",
   "metadata": {},
   "outputs": [],
   "source": [
    "person_data=['Name:Emma\\n', 'Address:221 Baker Street\\n\\n', '\\nCity:London']\n",
    "with open('text.txt','w')as f:\n",
    "    f.writelines(person_data)\n",
    "    f.close()"
   ]
  },
  {
   "cell_type": "code",
   "execution_count": 2,
   "id": "7dce9d5c",
   "metadata": {},
   "outputs": [
    {
     "name": "stdout",
     "output_type": "stream",
     "text": [
      "Data Name:Emma\n",
      "Address:221 Baker Street\n",
      "\n",
      "\n",
      "City:London\n",
      "lines ['Name:Emma', 'Address:221 Baker Street', '', '', 'City:London']\n",
      "1 : Name:Emma\n",
      "2 : Address:221 Baker Street\n",
      "3 : City:London\n"
     ]
    }
   ],
   "source": [
    "count = 0\n",
    "with open('text.txt','r') as f:\n",
    "    data = f.read()\n",
    "    print('Data',data)\n",
    "    line = data.splitlines()\n",
    "    print(\"lines\",line)\n",
    "    for lines in line:\n",
    "        if lines!=\"\":\n",
    "            count=1+count\n",
    "            print(count,\":\",lines)\n",
    "        \n",
    " "
   ]
  },
  {
   "cell_type": "code",
   "execution_count": 97,
   "id": "cb04a252",
   "metadata": {},
   "outputs": [
    {
     "name": "stdout",
     "output_type": "stream",
     "text": [
      "ENTER THE DATA:-HELLO WHATSAPP!\n",
      "ENTER Y FOR NEXT DATA VALUE OR N:- Y\n",
      "ENTER THE DATA:-HOW ARE YOU?\n",
      "ENTER Y FOR NEXT DATA VALUE OR N:- N\n"
     ]
    }
   ],
   "source": [
    "with open('txt1.txt','w+')as f:\n",
    "    while True:\n",
    "        data = input(\"ENTER THE DATA:-\")\n",
    "        f.write(data+'\\n')\n",
    "        choice = input(\"ENTER Y FOR NEXT DATA VALUE OR N:- \")\n",
    "        if choice in ('n','N'):\n",
    "            break\n",
    "            f.close()\n",
    "            "
   ]
  },
  {
   "cell_type": "code",
   "execution_count": 121,
   "id": "5507afb7",
   "metadata": {},
   "outputs": [
    {
     "name": "stdout",
     "output_type": "stream",
     "text": [
      "DATA: HELLO WHATSAPP!\n",
      "HOW ARE YOU?\n",
      "\n",
      "['HELLO', 'WHATSAPP!', 'HOW', 'ARE', 'YOU?']\n",
      "hello\n",
      "count 1\n"
     ]
    }
   ],
   "source": [
    "count = 0\n",
    "with open('txt1.txt','r') as f:\n",
    "    data = f.read()\n",
    "    print(\"DATA:\",data)\n",
    "    lines = data.split()\n",
    "    print(lines)\n",
    "    for word in lines:\n",
    "        if word[-1] == 'O':\n",
    "            print(word.lower())\n",
    "            count +=1\n",
    "    print(\"count\",count)"
   ]
  },
  {
   "cell_type": "code",
   "execution_count": 126,
   "id": "871a7f2e",
   "metadata": {},
   "outputs": [
    {
     "name": "stdout",
     "output_type": "stream",
     "text": [
      "ENTER THE NUMBER:- 1\n",
      "Deleted\n",
      "HELLO WHATSAPP!\n",
      "HOW ARE YOU?\n",
      "\n"
     ]
    }
   ],
   "source": [
    "n = input(\"ENTER THE NUMBER:- \")\n",
    "with open ('txt1.txt','r') as fr:\n",
    "    lines = fr.readlines()\n",
    "    ptr = 1\n",
    "    with open('txt1.txt','w') as fw:\n",
    "        for line in lines:\n",
    "            if ptr!=n:\n",
    "                fw.write(line)\n",
    "            ptr+=1\n",
    "        fw.close()\n",
    "        print(\"Deleted\")\n",
    "        fr.seek(0)\n",
    "        print(fr.read())\n",
    "        fr.close()"
   ]
  },
  {
   "cell_type": "code",
   "execution_count": 134,
   "id": "00352cd5",
   "metadata": {},
   "outputs": [
    {
     "name": "stdout",
     "output_type": "stream",
     "text": [
      "HELLO WHATSAPP!\n",
      "HOW ARE YOU?\n",
      "\n",
      "HELLO WHATSAPP!\n",
      "Count:  1 HOW ARE YOU?\n",
      "Count:  2 "
     ]
    }
   ],
   "source": [
    "fp=open(\"txt1.txt\",\"r\")\n",
    "count=0\n",
    "print(fp.read())\n",
    "fp.seek(0)\n",
    "for line in fp:\n",
    "    if line[0] not in 'T':\n",
    "        print(line,end=(\"\"))\n",
    "        count+=1\n",
    "        print(\"Count: \",count,end=\" \")\n",
    "fp.close()"
   ]
  },
  {
   "cell_type": "code",
   "execution_count": 25,
   "id": "196386dd",
   "metadata": {},
   "outputs": [
    {
     "name": "stdout",
     "output_type": "stream",
     "text": [
      "['23']\n",
      "TTER HAS SAME EXP\n"
     ]
    }
   ],
   "source": [
    "import re\n",
    "def txt1(txt):\n",
    "    pattern = '[0-9]+[0-5]'\n",
    "    x = re.findall(pattern,txt)\n",
    "    print(x)\n",
    "    if re.search(pattern,txt):\n",
    "        return(\"TTER HAS SAME EXP\")\n",
    "    else:\n",
    "        return(\" FOUND\")\n",
    "print(txt1(\"WORLD23\"))\n"
   ]
  },
  {
   "cell_type": "code",
   "execution_count": null,
   "id": "fbc6913e",
   "metadata": {},
   "outputs": [],
   "source": []
  }
 ],
 "metadata": {
  "kernelspec": {
   "display_name": "Python 3 (ipykernel)",
   "language": "python",
   "name": "python3"
  },
  "language_info": {
   "codemirror_mode": {
    "name": "ipython",
    "version": 3
   },
   "file_extension": ".py",
   "mimetype": "text/x-python",
   "name": "python",
   "nbconvert_exporter": "python",
   "pygments_lexer": "ipython3",
   "version": "3.9.13"
  }
 },
 "nbformat": 4,
 "nbformat_minor": 5
}
