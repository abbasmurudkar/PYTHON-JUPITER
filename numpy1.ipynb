{
 "cells": [
  {
   "cell_type": "code",
   "execution_count": 87,
   "id": "e5a51a25",
   "metadata": {},
   "outputs": [
    {
     "name": "stdout",
     "output_type": "stream",
     "text": [
      "[[1 1 1]\n",
      " [1 1 1]\n",
      " [1 1 1]\n",
      " [1 1 1]]\n",
      "[[0 0 0]\n",
      " [0 0 0]\n",
      " [0 0 0]]\n",
      "(3, 3)\n"
     ]
    }
   ],
   "source": [
    "import numpy as np\n",
    "a = np.ones((4,3),dtype=int)\n",
    "print(a)\n",
    "b = np.zeros((3,3),dtype=int)\n",
    "print(b)\n",
    "print(b.shape)"
   ]
  },
  {
   "cell_type": "code",
   "execution_count": 23,
   "id": "91a6ab63",
   "metadata": {},
   "outputs": [
    {
     "name": "stdout",
     "output_type": "stream",
     "text": [
      "[[1 8 3 5 8]\n",
      " [2 6 4 1 4]\n",
      " [5 9 1 4 1]]\n"
     ]
    }
   ],
   "source": [
    "j = np.random.randint(1,10 ,size=(3,5),dtype=int)\n",
    "print(j)"
   ]
  },
  {
   "cell_type": "code",
   "execution_count": 30,
   "id": "afa20fe6",
   "metadata": {},
   "outputs": [
    {
     "name": "stdout",
     "output_type": "stream",
     "text": [
      "[[1 0 0 0]\n",
      " [0 1 0 0]\n",
      " [0 0 1 0]\n",
      " [0 0 0 1]]\n",
      "0.25\n"
     ]
    }
   ],
   "source": [
    "a = np.identity(4,dtype=int)\n",
    "print(a)\n",
    "mean = a.mean()\n",
    "print(mean)"
   ]
  },
  {
   "cell_type": "code",
   "execution_count": 35,
   "id": "b00dbef5",
   "metadata": {},
   "outputs": [
    {
     "name": "stdout",
     "output_type": "stream",
     "text": [
      "[[1 0 0]\n",
      " [0 1 0]\n",
      " [0 0 1]]\n",
      "[[0 0 0 0 0]\n",
      " [0 1 0 0 0]\n",
      " [0 0 1 0 0]\n",
      " [0 0 0 1 0]\n",
      " [0 0 0 0 0]]\n"
     ]
    }
   ],
   "source": [
    "a = np.random.randint(1,8, size=(3,3), dtype=int)\n",
    "x = np.identity(3,dtype=int)\n",
    "print(x)\n",
    "y = np.pad(x,1)\n",
    "print(y)"
   ]
  },
  {
   "cell_type": "code",
   "execution_count": 55,
   "id": "262e0a88",
   "metadata": {},
   "outputs": [
    {
     "name": "stdout",
     "output_type": "stream",
     "text": [
      "ENTER THE DIMENSION:-8\n",
      "[[0 1 0 1 0 1 0 1]\n",
      " [1 0 1 0 1 0 1 0]\n",
      " [0 1 0 1 0 1 0 1]\n",
      " [1 0 1 0 1 0 1 0]\n",
      " [0 1 0 1 0 1 0 1]\n",
      " [1 0 1 0 1 0 1 0]\n",
      " [0 1 0 1 0 1 0 1]\n",
      " [1 0 1 0 1 0 1 0]]\n"
     ]
    }
   ],
   "source": [
    "dim = eval(input(\"ENTER THE DIMENSION:-\"))\n",
    "a = np.zeros((dim,dim),dtype=int)\n",
    "a[::2,1::2]=1\n",
    "a[1::2,::2]=1\n",
    "print(a)"
   ]
  },
  {
   "cell_type": "code",
   "execution_count": 168,
   "id": "f769248e",
   "metadata": {
    "scrolled": true
   },
   "outputs": [
    {
     "name": "stdout",
     "output_type": "stream",
     "text": [
      "[[1 2 3]\n",
      " [2 3 4]]\n",
      "[[ 1 55  3]\n",
      " [ 4  5  6]]\n",
      "55\n",
      "6\n",
      "(2, 3)\n",
      "int64\n",
      "2\n",
      "<memory at 0x7f950a33fc70>\n"
     ]
    }
   ],
   "source": [
    "a = np.array([[1,2,3],[4,5,6]])\n",
    "x = np.array(((1,2,3),(2,3,4)))\n",
    "print(x)\n",
    "a[0,1]=55\n",
    "a.reshape(3,2)\n",
    "print(a)\n",
    "print(a[0,1]) \n",
    "print(a.size)\n",
    "print(a.shape)\n",
    "print(a.dtype)\n",
    "print(a.ndim)\n",
    "print(a.data)"
   ]
  },
  {
   "cell_type": "code",
   "execution_count": 113,
   "id": "d3f4393e",
   "metadata": {},
   "outputs": [
    {
     "name": "stdout",
     "output_type": "stream",
     "text": [
      "[ 0  2  4  6  8 10 12 14 16 18 20 22 24 26 28 30 32 34 36 38 40 42 44 46\n",
      " 48 50 52 54 56 58 60 62 64 66 68 70 72 74 76 78 80 82 84 86 88 90 92 94\n",
      " 96 98]\n"
     ]
    }
   ],
   "source": [
    "a = np.arange(0,100,2)\n",
    "print(a)"
   ]
  },
  {
   "cell_type": "code",
   "execution_count": 147,
   "id": "d2989157",
   "metadata": {},
   "outputs": [
    {
     "name": "stdout",
     "output_type": "stream",
     "text": [
      "Roxanne Theodore "
     ]
    }
   ],
   "source": [
    "dict = {'Theodore':19,'Roxanne':22,'Mathew':21,'Betty':20}\n",
    "print(max(dict, key=dict.get),end=(\" \"))\n",
    "print(min(dict, key=dict.get),end=(\" \"))\n"
   ]
  },
  {
   "cell_type": "code",
   "execution_count": 4,
   "id": "af854a31",
   "metadata": {},
   "outputs": [
    {
     "name": "stdout",
     "output_type": "stream",
     "text": [
      "[[1 2 3 2]\n",
      " [3 2 3 1]\n",
      " [2 2 1 2]\n",
      " [2 3 2 2]]\n",
      "[[1. 0. 0. 0.]\n",
      " [0. 1. 0. 0.]\n",
      " [0. 0. 1. 0.]\n",
      " [0. 0. 0. 1.]]\n",
      "[[0. 0. 0. 0. 0. 0.]\n",
      " [0. 1. 0. 0. 0. 0.]\n",
      " [0. 0. 1. 0. 0. 0.]\n",
      " [0. 0. 0. 1. 0. 0.]\n",
      " [0. 0. 0. 0. 1. 0.]\n",
      " [0. 0. 0. 0. 0. 0.]]\n",
      "[[1 3 2 2]\n",
      " [2 2 2 3]\n",
      " [3 3 1 2]\n",
      " [2 1 2 2]]\n"
     ]
    }
   ],
   "source": [
    "a = np.random.randint(1,4,size=(4,4),dtype=\"int\")\n",
    "print(a)\n",
    "b = np.identity(4)\n",
    "print(b)\n",
    "n = np.pad(b,1)\n",
    "print(n)\n",
    "x = np.add(a,b)\n",
    "x = np.multiply(a,b)\n",
    "# x = np.divide(a,b)\n",
    "x = np.sqrt(a)\n",
    "x = np.exp(b)\n",
    "x = np.subtract(a,b)\n",
    "x = a.sum()\n",
    "x = a.T\n",
    "print(x)"
   ]
  },
  {
   "cell_type": "code",
   "execution_count": 15,
   "id": "15e21628",
   "metadata": {},
   "outputs": [
    {
     "name": "stdout",
     "output_type": "stream",
     "text": [
      "[[1 2 3 4]\n",
      " [2 3 4 5]\n",
      " [9 7 6 5]]\n",
      "[[1 2 3]\n",
      " [4 2 3]\n",
      " [4 5 9]\n",
      " [7 6 5]]\n",
      "[[1 2 3]\n",
      " [2 3 4]\n",
      " [4 5 9]\n",
      " [5 6 7]]\n"
     ]
    }
   ],
   "source": [
    "x = [[1,2,3,4],[2,3,4,5],[9,7,6,5]]\n",
    "a = np.array(x)\n",
    "print(a)\n",
    "a.ndim\n",
    "a.size\n",
    "x = a.reshape(4,3)\n",
    "print(x)\n",
    "x.shape\n",
    "x.T\n",
    "x.sum()\n",
    "x.mean()\n",
    "x.argmax(axis=0)\n",
    "x.argmin(axis=1)\n",
    "x.argsort(axis=0)\n",
    "x.ravel()\n",
    "x.min()\n",
    "x.max()\n",
    "np.where(x>5)\n",
    "b =x.sort()\n",
    "print(x)\n",
    "\n"
   ]
  },
  {
   "cell_type": "code",
   "execution_count": 8,
   "id": "4da09fd9",
   "metadata": {},
   "outputs": [
    {
     "name": "stdout",
     "output_type": "stream",
     "text": [
      "ENTER THE ELEMENT FOR ARRAY:-0\n",
      "ENTER THE ELEMENT FOR ARRAY:-2\n",
      "[0 2]\n",
      "False\n"
     ]
    }
   ],
   "source": [
    "import numpy as np\n",
    "x= []\n",
    "for e in range(2):\n",
    "    i = int(input(\"ENTER THE ELEMENT FOR ARRAY:-\"))\n",
    "    x.append(i)\n",
    "y = np.array(x)\n",
    "print(y) \n",
    "print(np.all(y))\n"
   ]
  },
  {
   "cell_type": "code",
   "execution_count": null,
   "id": "e420b4f2",
   "metadata": {},
   "outputs": [],
   "source": []
  },
  {
   "cell_type": "code",
   "execution_count": null,
   "id": "6cd729bf",
   "metadata": {},
   "outputs": [],
   "source": []
  }
 ],
 "metadata": {
  "kernelspec": {
   "display_name": "Python 3 (ipykernel)",
   "language": "python",
   "name": "python3"
  },
  "language_info": {
   "codemirror_mode": {
    "name": "ipython",
    "version": 3
   },
   "file_extension": ".py",
   "mimetype": "text/x-python",
   "name": "python",
   "nbconvert_exporter": "python",
   "pygments_lexer": "ipython3",
   "version": "3.9.13"
  }
 },
 "nbformat": 4,
 "nbformat_minor": 5
}
