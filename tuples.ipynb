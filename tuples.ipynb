{
 "cells": [
  {
   "cell_type": "code",
   "execution_count": 28,
   "id": "43c8981b",
   "metadata": {},
   "outputs": [
    {
     "name": "stdout",
     "output_type": "stream",
     "text": [
      "7 54 1 2\n",
      "element exist\n"
     ]
    }
   ],
   "source": [
    "tuple = (1,2,3,43,1,54,32)\n",
    "x = len(tuple)\n",
    "y = max(tuple)\n",
    "z = min(tuple)\n",
    "e = tuple.count(1)\n",
    "print(x,y,z,e)\n",
    "if 43 in tuple:\n",
    "    print(\"element exist\")"
   ]
  },
  {
   "cell_type": "code",
   "execution_count": 23,
   "id": "586888ee",
   "metadata": {},
   "outputs": [
    {
     "name": "stdout",
     "output_type": "stream",
     "text": [
      "45\n"
     ]
    }
   ],
   "source": [
    "#maximum number from tuple\n",
    "tuple = (1,2,2,1,3,45,23)\n",
    "tuple1 = ()\n",
    "index = 0\n",
    "for i in tuple:\n",
    "    if index<len(tuple):\n",
    "        index = i\n",
    "print(index)"
   ]
  },
  {
   "cell_type": "code",
   "execution_count": 43,
   "id": "5fa551e3",
   "metadata": {},
   "outputs": [
    {
     "name": "stdout",
     "output_type": "stream",
     "text": [
      "ONE TWO THREE FOUR "
     ]
    }
   ],
   "source": [
    "tuple1 = [1,2,3,4]\n",
    "for i in tuple1:\n",
    "    if i == 1:\n",
    "        print(\"ONE\",end=(\" \"))\n",
    "    elif i == 2:\n",
    "        print(\"TWO\",end=(\" \"))\n",
    "    elif i == 3:\n",
    "        print(\"THREE\",end=(\" \"))\n",
    "    elif i == 4:\n",
    "        print(\"FOUR\",end=(\" \"))\n",
    "    else:\n",
    "        print(\"GAAND MARA BSDK\")\n"
   ]
  },
  {
   "cell_type": "code",
   "execution_count": null,
   "id": "79116cda",
   "metadata": {},
   "outputs": [],
   "source": []
  }
 ],
 "metadata": {
  "kernelspec": {
   "display_name": "Python 3 (ipykernel)",
   "language": "python",
   "name": "python3"
  },
  "language_info": {
   "codemirror_mode": {
    "name": "ipython",
    "version": 3
   },
   "file_extension": ".py",
   "mimetype": "text/x-python",
   "name": "python",
   "nbconvert_exporter": "python",
   "pygments_lexer": "ipython3",
   "version": "3.9.13"
  }
 },
 "nbformat": 4,
 "nbformat_minor": 5
}
