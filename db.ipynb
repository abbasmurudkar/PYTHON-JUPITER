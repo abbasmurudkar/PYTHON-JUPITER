{
 "cells": [
  {
   "cell_type": "code",
   "execution_count": 31,
   "id": "4a824100",
   "metadata": {},
   "outputs": [
    {
     "name": "stdout",
     "output_type": "stream",
     "text": [
      "(2, 'arman')\n",
      "(2, 'haider')\n",
      "(2, 'arman')\n",
      "(2, 'haider')\n",
      "\n",
      "\n",
      "(2, 'arman')\n",
      "(2, 'haider')\n",
      "(2, 'arman')\n",
      "(2, 'haider')\n",
      "\n",
      "\n",
      "(1, 'abbas')\n",
      "(2, 'arman')\n",
      "(3, 'umar')\n",
      "(1, 'eram')\n",
      "(2, 'haider')\n",
      "(3, 'shagul')\n",
      "(34534, 'abbas')\n",
      "(1, 'abbas')\n",
      "(2, 'arman')\n",
      "(3, 'umar')\n",
      "(1, 'eram')\n",
      "(2, 'haider')\n",
      "(3, 'shagul')\n",
      "(34534, 'abbas')\n"
     ]
    }
   ],
   "source": [
    "for row in rows:\n",
    "  print(row)\n",
    "print(\"\\n\")\n",
    "\n",
    "cur.execute(\"SELECT * from Users where Id=2\")\n",
    "rows= cur.fetchall()\n",
    "for row in rows:\n",
    "  print(row)\n",
    "print(\"\\n\")\n",
    "\n",
    "# con.execute(\"DELETE from Users where Id=1\")\n",
    "# con.commit()\n",
    "# print(\"Updated Table\")\n",
    "\n",
    "cur.execute(\"SELECT * from Users\")\n",
    "rows= cur.fetchall()\n",
    "for row in rows:\n",
    "  print(row)"
   ]
  },
  {
   "cell_type": "code",
   "execution_count": 33,
   "id": "c08f8299",
   "metadata": {},
   "outputs": [
    {
     "name": "stdout",
     "output_type": "stream",
     "text": [
      "ENTER THE ID:-786\n",
      "ENTER THE NAME:-ABBAS\n"
     ]
    }
   ],
   "source": [
    "id = int(input(\"ENTER THE ID:-\"))\n",
    "name = input(\"ENTER THE NAME:-\")\n",
    "conn = sql.connect('abbas2.db')"
   ]
  },
  {
   "cell_type": "code",
   "execution_count": 53,
   "id": "a02a8715",
   "metadata": {},
   "outputs": [
    {
     "ename": "IndentationError",
     "evalue": "unexpected indent (2063065141.py, line 3)",
     "output_type": "error",
     "traceback": [
      "\u001b[0;36m  File \u001b[0;32m\"/var/folders/lb/46_l2j290qj07n3011jhx_sw0000gn/T/ipykernel_6840/2063065141.py\"\u001b[0;36m, line \u001b[0;32m3\u001b[0m\n\u001b[0;31m    cur = conn.cursor()\u001b[0m\n\u001b[0m    ^\u001b[0m\n\u001b[0;31mIndentationError\u001b[0m\u001b[0;31m:\u001b[0m unexpected indent\n"
     ]
    }
   ],
   "source": [
    "conn = sql.connect('abbas2.db')\n",
    "with conn:\n",
    "    cur = conn.cursor()\n",
    "    cur.execute(\"CREATE TABLE IF NOT EXISTS USER(ID INT,NAME VARCHAR)\")\n",
    "    cur.execute(\"INSERT INTO USER VALUES(1,'ABBAS')\")\n",
    "    cur.execute(\"INSERT INTO USER VALUES(2,'UMAR')\")\n",
    "    cur.execute(\"INSERT INTO USER VALUES(3,'ARMAN')\")\n",
    "    cur.execute(\"INSERT INTO USER VALUES(1,'HAIDER')\")\n",
    "    cur.execute(\"INSERT INTO USER VALUES(2,'ERAM')\")\n",
    "    cur.execute(\"SELECT * FROM USER\")"
   ]
  },
  {
   "cell_type": "code",
   "execution_count": 36,
   "id": "7e2cc62f",
   "metadata": {},
   "outputs": [
    {
     "name": "stdout",
     "output_type": "stream",
     "text": [
      "(1, 'ABBAS')\n",
      "(2, 'UMAR')\n",
      "(3, 'ARMAN')\n",
      "(1, 'HAIDER')\n",
      "(2, 'ERAM')\n"
     ]
    }
   ],
   "source": [
    "row = cur.fetchall()\n",
    "for rows in row:\n",
    "    print(rows,'/n')\n"
   ]
  },
  {
   "cell_type": "code",
   "execution_count": 37,
   "id": "bd70bbe3",
   "metadata": {},
   "outputs": [
    {
     "name": "stdout",
     "output_type": "stream",
     "text": [
      "(1, 'ABBAS')\n",
      "(1, 'HAIDER')\n"
     ]
    }
   ],
   "source": [
    "cur.execute(\"SELECT * FROM USER WHERE ID=1\")\n",
    "rows = cur.fetchall()\n",
    "for row in rows:\n",
    "    print(row)"
   ]
  },
  {
   "cell_type": "code",
   "execution_count": 51,
   "id": "6f113853",
   "metadata": {},
   "outputs": [
    {
     "name": "stdout",
     "output_type": "stream",
     "text": [
      "(1, 'ABBAS')\n",
      "(3, 'ARMAN MURUDKAR')\n",
      "(1, 'HAIDER')\n",
      "(2, 'HAIDER')\n"
     ]
    }
   ],
   "source": [
    "cur.execute(\"SELECT * FROM USER\")\n",
    "rows = cur.fetchall()\n",
    "for row in rows:\n",
    "    print(row)"
   ]
  },
  {
   "cell_type": "code",
   "execution_count": 45,
   "id": "4cd88a9f",
   "metadata": {},
   "outputs": [
    {
     "name": "stdout",
     "output_type": "stream",
     "text": [
      "table updated\n"
     ]
    }
   ],
   "source": [
    "cur.execute(\"DELETE FROM USER WHERE ID=2\")\n",
    "rows = cur.fetchall()\n",
    "for row in rows:\n",
    "    print(row)\n",
    "print(\"table updated\")"
   ]
  },
  {
   "cell_type": "code",
   "execution_count": 47,
   "id": "b7abf4ef",
   "metadata": {},
   "outputs": [],
   "source": [
    "cur.execute(\"UPDATE USER SET NAME ='ARMAN MURUDKAR' WHERE NAME='ARMAN' \")\n",
    "rows = cur.fetchall()\n",
    "for row in rows:\n",
    "    print(row)"
   ]
  },
  {
   "cell_type": "code",
   "execution_count": 52,
   "id": "a4e9d5ed",
   "metadata": {},
   "outputs": [],
   "source": [
    "cur.execute(\"INSERT INTO USER (ID,NAME) VALUES(2,'HAIDER')\")\n",
    "rows = cur.fetchall()\n",
    "for row in rows:\n",
    "    print(row)"
   ]
  },
  {
   "cell_type": "code",
   "execution_count": 55,
   "id": "ca1bbb16",
   "metadata": {},
   "outputs": [
    {
     "name": "stdout",
     "output_type": "stream",
     "text": [
      "(3, 'ARMAN MURUDKAR')\n"
     ]
    }
   ],
   "source": [
    "cur.execute(\"SELECT MAX(ID)'MAXIMUM',NAME 'PARENTS' FROM USER \")\n",
    "rows = cur.fetchall()\n",
    "for row in rows:\n",
    "    print(row)"
   ]
  },
  {
   "cell_type": "code",
   "execution_count": null,
   "id": "78375980",
   "metadata": {},
   "outputs": [],
   "source": []
  }
 ],
 "metadata": {
  "kernelspec": {
   "display_name": "Python 3 (ipykernel)",
   "language": "python",
   "name": "python3"
  },
  "language_info": {
   "codemirror_mode": {
    "name": "ipython",
    "version": 3
   },
   "file_extension": ".py",
   "mimetype": "text/x-python",
   "name": "python",
   "nbconvert_exporter": "python",
   "pygments_lexer": "ipython3",
   "version": "3.9.13"
  }
 },
 "nbformat": 4,
 "nbformat_minor": 5
}
