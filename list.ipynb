{
 "cells": [
  {
   "cell_type": "code",
   "execution_count": 12,
   "id": "3730229e",
   "metadata": {
    "scrolled": false
   },
   "outputs": [
    {
     "name": "stdout",
     "output_type": "stream",
     "text": [
      "(1, 2, 3, 4)\n",
      "[2, 3, 4, 5, 5]\n"
     ]
    }
   ],
   "source": [
    "l1 = (1,2,3,4)\n",
    "l2 = (3,4,5,5)\n",
    "l3 =[]\n",
    "print(l1)\n",
    "for i in l1:\n",
    "    if(i%2)==0:\n",
    "        l3.append(i)\n",
    "\n",
    "for i in l2:\n",
    "    if(i%2)==0:\n",
    "        continue\n",
    "    else:\n",
    "        l3.append(i)\n",
    "l3.sort(reverse=False)\n",
    "print(l3)"
   ]
  },
  {
   "cell_type": "code",
   "execution_count": 34,
   "id": "4fa88252",
   "metadata": {},
   "outputs": [
    {
     "name": "stdout",
     "output_type": "stream",
     "text": [
      "31\n"
     ]
    }
   ],
   "source": [
    "# sum of all the items in the list\n",
    "l1 = [1,2,3,4,5,6,10]\n",
    "total = 0\n",
    "for i in l1:\n",
    "    total = total + i\n",
    "print(\"TOTAL OF THE LIST:- \",total)"
   ]
  },
  {
   "cell_type": "code",
   "execution_count": 13,
   "id": "2ca842db",
   "metadata": {},
   "outputs": [
    {
     "name": "stdout",
     "output_type": "stream",
     "text": [
      "[1, 2, 4, 5, 6]\n"
     ]
    }
   ],
   "source": [
    "# removing the duplicate numbers\n",
    "l1 = (1,1,2,2,4,5,6,6)\n",
    "result = []\n",
    "for i in l1:\n",
    "    if i not in result:\n",
    "        result.append(i)\n",
    "print(result)"
   ]
  },
  {
   "cell_type": "code",
   "execution_count": 49,
   "id": "2ba6eba1",
   "metadata": {},
   "outputs": [
    {
     "name": "stdout",
     "output_type": "stream",
     "text": [
      "3 FOUND\n",
      "90 NOT FOUND\n"
     ]
    }
   ],
   "source": [
    "#linear search\n",
    "def linear(itr,ele):\n",
    "    isfound = False;\n",
    "    for i in range(len(itr)):\n",
    "        if(itr[i] == ele ):\n",
    "            isfound == True\n",
    "            return f\"{ele} FOUND\"\n",
    "    if not isfound:\n",
    "        return f\"{ele} NOT FOUND\"\n",
    "list = [1,2,3,4,5,65,7]\n",
    "print(linear(list,3))\n",
    "print(linear(list,90))"
   ]
  },
  {
   "cell_type": "code",
   "execution_count": 8,
   "id": "88d546dd",
   "metadata": {},
   "outputs": [
    {
     "name": "stdout",
     "output_type": "stream",
     "text": [
      "GREATEST NUMBER IN THE LIST 9\n"
     ]
    }
   ],
   "source": [
    "l1 = [1,9,3,4]\n",
    "h_num = 0;\n",
    "for i in l1:\n",
    "    if i > h_num:\n",
    "        h_num = i\n",
    "print(\"GREATEST NUMBER IN THE LIST\",h_num)"
   ]
  },
  {
   "cell_type": "code",
   "execution_count": 41,
   "id": "d4e1fef9",
   "metadata": {},
   "outputs": [
    {
     "name": "stdout",
     "output_type": "stream",
     "text": [
      "1 6 1\n",
      "REMOVED ELEMENT:-  1\n",
      "EXTENT ELEMENT:-  [2, 3, 3, 4, 6, 2, 3, 4]\n",
      "COPY OF LIST:-  [2, 3, 3, 4, 6, 2, 3, 4]\n",
      "SORTING THE ELEMENT:-  [6, 4, 4, 3, 3, 3, 2, 2]\n",
      "INSERTED ELEMENT:-  [6, 30, 4, 70, 4, 3, 3, 3, 2, 2]\n",
      "CLEARING ELEMENT:-  []\n",
      "[(2, 3, 4)]\n"
     ]
    }
   ],
   "source": [
    "l1 = [2,3,1,3,4,6]\n",
    "r2 = (2,3,4)\n",
    "x = l1.count(2)\n",
    "z = max(l1)\n",
    "y = min(l1)\n",
    "print(x,z,y)\n",
    "x = l1.pop(2)\n",
    "print(\"REMOVED ELEMENT:- \",x)\n",
    "y = l1.extend([2,3,4])\n",
    "print(\"EXTENT ELEMENT:- \",l1)\n",
    "x = l1.copy()\n",
    "print(\"COPY OF LIST:- \",x)\n",
    "l1.sort()\n",
    "l1.sort(reverse=True)\n",
    "print(\"SORTING THE ELEMENT:- \",l1)\n",
    "z = l1.insert(2,70)\n",
    "z=l1.insert(1,30)\n",
    "print(\"INSERTED ELEMENT:- \",l1)\n",
    "z = l1.clear()\n",
    "print(\"CLEARING ELEMENT:- \",l1)\n",
    "z = l1.append(r2)\n",
    "print(l1)"
   ]
  },
  {
   "cell_type": "code",
   "execution_count": 6,
   "id": "b1378b3e",
   "metadata": {},
   "outputs": [
    {
     "name": "stdout",
     "output_type": "stream",
     "text": [
      "ENTER THE VALUE FOR a:- 4\n",
      "ENTER THE VALUE FOR b:- 4\n",
      "ENTER THE VALUE FOR a:- 8\n",
      "ENTER THE VALUE FOR b:- 5\n",
      "[(4, 4), (8, 5)]\n",
      "[(4, 4)]\n"
     ]
    }
   ],
   "source": [
    "l1 = []\n",
    "l2 = []\n",
    "for i in range(2):\n",
    "    a = int(input(\"ENTER THE VALUE FOR a:- \"))\n",
    "    b = int(input(\"ENTER THE VALUE FOR b:- \"))\n",
    "    l1.append((a,b))\n",
    "print(l1)\n",
    "\n",
    "for i in l1:\n",
    "    r = True\n",
    "    for ele in i:\n",
    "        if ele%2 !=0:\n",
    "            r = False\n",
    "            break\n",
    "    if r:\n",
    "        l2.append(i)\n",
    "print(l2)"
   ]
  },
  {
   "cell_type": "code",
   "execution_count": 25,
   "id": "af1fb1d9",
   "metadata": {},
   "outputs": [
    {
     "name": "stdout",
     "output_type": "stream",
     "text": [
      "[(1, 1), (3, 27), (4, 64)]\n"
     ]
    }
   ],
   "source": [
    "l1 = [1,3,4]\n",
    "l2 = []\n",
    "for i in l1:\n",
    "    l2.append((i,i*i*i))\n",
    "print(l2)\n",
    "    \n",
    "    "
   ]
  },
  {
   "cell_type": "code",
   "execution_count": 24,
   "id": "c479ee26",
   "metadata": {},
   "outputs": [
    {
     "name": "stdout",
     "output_type": "stream",
     "text": [
      "{1: [5, 6, 7]} {2: [8, 3, 2]} {3: [8, 2, 1]} "
     ]
    }
   ],
   "source": [
    "l1 = [[5,6,7],[8,3,2],[8,2,1]]\n",
    "dict1 = {}\n",
    "for i in range(0,3):\n",
    "    dict1 = {i+1:l1[i]}\n",
    "    print(dict1,end=(\" \"))\n",
    "    \n",
    "    "
   ]
  },
  {
   "cell_type": "code",
   "execution_count": null,
   "id": "afaafd93",
   "metadata": {},
   "outputs": [],
   "source": []
  }
 ],
 "metadata": {
  "kernelspec": {
   "display_name": "Python 3 (ipykernel)",
   "language": "python",
   "name": "python3"
  },
  "language_info": {
   "codemirror_mode": {
    "name": "ipython",
    "version": 3
   },
   "file_extension": ".py",
   "mimetype": "text/x-python",
   "name": "python",
   "nbconvert_exporter": "python",
   "pygments_lexer": "ipython3",
   "version": "3.9.13"
  }
 },
 "nbformat": 4,
 "nbformat_minor": 5
}
