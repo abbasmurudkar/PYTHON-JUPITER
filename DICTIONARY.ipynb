{
 "cells": [
  {
   "cell_type": "code",
   "execution_count": 28,
   "id": "12598e25",
   "metadata": {},
   "outputs": [
    {
     "name": "stdout",
     "output_type": "stream",
     "text": [
      "enter the input:- 2\n",
      "enter the input:- 1\n",
      "enter the input:- 2\n",
      "enter the input:- 1\n",
      "enter the input:- 2\n",
      "['2', '1', '2', '1', '2']\n",
      "{1: 'abbas', 2: 'eram', 3: 'arman', 4: 'arman'}\n"
     ]
    }
   ],
   "source": [
    "l1 = []\n",
    "for i in range(5):\n",
    "    x = input(\"enter the input:- \")\n",
    "    l1.append(x)\n",
    "print(l1)\n",
    "# for i in range(len(l1)):\n",
    "#     dict = {i:l1[i]}\n",
    "#     print(dict,end=(\" \"))\n",
    "dict = {1:'abbas',2:'eram',3:'arman'}\n",
    "dict[4]=\"arman\"\n",
    "print(dict)"
   ]
  },
  {
   "cell_type": "code",
   "execution_count": 2,
   "id": "a27cfa0d",
   "metadata": {},
   "outputs": [
    {
     "name": "stdout",
     "output_type": "stream",
     "text": [
      "{1: 'abbas', 2: 'eram', 3: 'arman', 4: 'umar', 5: 'shagyk'}\n",
      "5\n",
      "{1: 'abbas', 2: 'eram', 3: 'arman', 4: 'umar'}\n",
      "{1: 'abbas', 2: 'eram', 3: 'arman', 4: 'umar'}\n",
      "{2: 1, 3: 1, 4: 1}\n",
      "(4, 'umar')\n",
      "dict_values(['abbas', 'eram', 'arman'])\n",
      "dict_keys([1, 2, 3])\n",
      "dict_items([(1, 'abbas'), (2, 'eram'), (3, 'arman')])\n",
      "[(1, 'abbas'), (2, 'eram'), (3, 'arman')]\n",
      "3\n",
      "eram\n"
     ]
    }
   ],
   "source": [
    "dict = {1:'abbas',2:'eram',3:'arman'}\n",
    "dict2 = {}\n",
    "dict.update({4:'umar'})\n",
    "dict[5]=\"shagyk\"\n",
    "print(dict)\n",
    "print(len(dict))\n",
    "x = dict.pop(5)\n",
    "print(dict)\n",
    "dict2 = dict.copy()\n",
    "print(dict2)\n",
    "x = dict.fromkeys([2,3,4],1)\n",
    "print(x)\n",
    "y = dict.popitem()\n",
    "print(y)\n",
    "v = dict.values()\n",
    "print(v)\n",
    "c = dict.keys()\n",
    "print(c)\n",
    "d = dict.items()\n",
    "print(d)\n",
    "c = sorted(dict.items())\n",
    "print (c)\n",
    "z =dict.keys()\n",
    "d = max(z)\n",
    "print(d)\n",
    "\n",
    "z = dict.get(2)\n",
    "print(z)"
   ]
  },
  {
   "cell_type": "code",
   "execution_count": 3,
   "id": "a214f6cb",
   "metadata": {},
   "outputs": [
    {
     "name": "stdout",
     "output_type": "stream",
     "text": [
      "ORIGINAL DICTIONARY:-  {1: 3, 2: 9, 5: 6, 9: 8}\n",
      "DICTIONARY SORTED BY VALUES DS:-  [3, 6, 8, 9]\n",
      "DICTIONARY SORTED BY VALUES AS:-  [9, 8, 6, 3]\n",
      "DICTIONARY SORTED BY ITEMS DS:-  [(1, 3), (2, 9), (5, 6), (9, 8)]\n",
      "DICTIONARY SORTED BY ITEMS AS:-  [(9, 8), (5, 6), (2, 9), (1, 3)]\n",
      "DICTIONARY SORTED BY KEYS DS:-  [1, 2, 5, 9]\n",
      "DICTIONARY SORTED BY ITEMS AS:-  [(9, 8), (5, 6), (2, 9), (1, 3)]\n"
     ]
    }
   ],
   "source": [
    "#ascending and descending orders\n",
    "dict1 = {1:3,2:9,5:6,9:8}\n",
    "print(\"ORIGINAL DICTIONARY:- \",dict1)\n",
    "\n",
    "x = sorted(dict1.values())\n",
    "print(\"DICTIONARY SORTED BY VALUES DS:- \",x)\n",
    "x = sorted(dict1.values(),reverse=True)\n",
    "print(\"DICTIONARY SORTED BY VALUES AS:- \",x)\n",
    "\n",
    "y = sorted(dict1.items())\n",
    "print(\"DICTIONARY SORTED BY ITEMS DS:- \",y)\n",
    "y = sorted(dict1.items(),reverse=True)\n",
    "print(\"DICTIONARY SORTED BY ITEMS AS:- \",y)\n",
    "\n",
    "z = sorted(dict1.keys())\n",
    "print(\"DICTIONARY SORTED BY KEYS DS:- \",z)\n",
    "z = sorted(dict1.keys(),reverse=True)\n",
    "print(\"DICTIONARY SORTED BY ITEMS AS:- \",y)\n",
    "\n",
    "\n",
    "\n",
    "\n"
   ]
  },
  {
   "cell_type": "code",
   "execution_count": 4,
   "id": "7a881bf7",
   "metadata": {},
   "outputs": [
    {
     "name": "stdout",
     "output_type": "stream",
     "text": [
      "{'a': 100, 'b': 200, 'c': 300}\n",
      "{'a': 300, 'b': 200, 'd': 400}\n",
      "{'a': 400, 'b': 400}\n"
     ]
    }
   ],
   "source": [
    "d1={'a':100,'b':200,'c':300}\n",
    "d2={'a':300,'b':200,'d':400}\n",
    "d3 ={}\n",
    "print(d1)\n",
    "print(d2)\n",
    "for key1,values in d1.items():\n",
    "    for key2,values1 in d2.items():\n",
    "        if(key1==key2):\n",
    "            d3[key1] = values+values1\n",
    "print(d3)"
   ]
  },
  {
   "cell_type": "code",
   "execution_count": 19,
   "id": "67906e89",
   "metadata": {},
   "outputs": [
    {
     "name": "stdout",
     "output_type": "stream",
     "text": [
      "{'milk': 0.40280000000000005, 'bread': 16.72, 'coffee': 66.88}\n"
     ]
    }
   ],
   "source": [
    "oldprice = {'milk':0.53,'bread':22,'coffee':88}\n",
    "dollar = 0.76\n",
    "newprice = {}\n",
    "for keys,values in oldprice.items():\n",
    "    newprice[keys]=values*dollar\n",
    "print(newprice)"
   ]
  },
  {
   "cell_type": "code",
   "execution_count": null,
   "id": "125cda98",
   "metadata": {},
   "outputs": [],
   "source": [
    "dict = {1:18,2:8,4:9}\n",
    "for keys,values in dict.items():\n",
    "    if (values%2)==0:\n",
    "        dict0[keys]=values\n",
    "    else:\n",
    "        dicte[keys]=values\n",
    "print(dict0,dicte)"
   ]
  },
  {
   "cell_type": "code",
   "execution_count": 35,
   "id": "7ae75493",
   "metadata": {},
   "outputs": [
    {
     "name": "stdout",
     "output_type": "stream",
     "text": [
      "ENTER THE MEMBER NAME:- ABBAS\n",
      "enter the expense amount80\n",
      "enter the expense amount90\n",
      "enter the expense amount100\n",
      "ENTER THE MEMBER NAME:- UMAR\n",
      "enter the expense amount70\n",
      "enter the expense amount30\n",
      "enter the expense amount40\n",
      "ENTER THE MEMBER NAME:- ARMAN\n",
      "enter the expense amount100\n",
      "enter the expense amount200\n",
      "enter the expense amount300\n",
      "{'ABBAS': ['80', '90', '100'], 'UMAR': ['70', '30', '40'], 'ARMAN': ['100', '200', '300']}\n",
      "['ARMAN']\n"
     ]
    }
   ],
   "source": [
    "dict = {}\n",
    "\n",
    "for i in range(3):\n",
    "    n = input(\"ENTER THE MEMBER NAME:- \")\n",
    "    l1 = []\n",
    "    for j in range(3):\n",
    "        exp = input(\"enter the expense amount\")\n",
    "        l1.append(exp)\n",
    "    dict[n]= l1\n",
    "#     l1.sort(reverse=True)\n",
    "#     print(l1)\n",
    "print(dict)\n",
    "l2 = []\n",
    "for key,values in dict.items():\n",
    "    if(values[0]<=values[2]):\n",
    "        l2.append(key)\n",
    "        l2.sort()\n",
    "        print(l2)"
   ]
  },
  {
   "cell_type": "markdown",
   "id": "75d48209",
   "metadata": {},
   "source": [
    "### "
   ]
  },
  {
   "cell_type": "code",
   "execution_count": null,
   "id": "f24be5b7",
   "metadata": {},
   "outputs": [],
   "source": []
  }
 ],
 "metadata": {
  "kernelspec": {
   "display_name": "Python 3 (ipykernel)",
   "language": "python",
   "name": "python3"
  },
  "language_info": {
   "codemirror_mode": {
    "name": "ipython",
    "version": 3
   },
   "file_extension": ".py",
   "mimetype": "text/x-python",
   "name": "python",
   "nbconvert_exporter": "python",
   "pygments_lexer": "ipython3",
   "version": "3.9.13"
  }
 },
 "nbformat": 4,
 "nbformat_minor": 5
}
